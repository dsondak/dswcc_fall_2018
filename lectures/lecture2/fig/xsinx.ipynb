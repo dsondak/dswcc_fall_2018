{
 "cells": [
  {
   "cell_type": "code",
   "execution_count": 1,
   "metadata": {},
   "outputs": [],
   "source": [
    "import tqdm\n",
    "import pandas as pd\n",
    "import numpy as np\n",
    "from torch.nn.utils.convert_parameters import vector_to_parameters, parameters_to_vector\n",
    "import random\n",
    "import matplotlib.pyplot as plt\n",
    "\n",
    "%matplotlib inline"
   ]
  },
  {
   "cell_type": "code",
   "execution_count": 2,
   "metadata": {},
   "outputs": [],
   "source": [
    "def fun(x):\n",
    "    return x*np.sin(x)"
   ]
  },
  {
   "cell_type": "code",
   "execution_count": 3,
   "metadata": {},
   "outputs": [],
   "source": [
    "#Synthetic Data\n",
    "n = 500\n",
    "x = np.linspace(0, 7, n)\n",
    "random.shuffle(x)\n",
    "y = fun(x)# + np.random.normal(scale=5, loc=0, size=(len(x2)))"
   ]
  },
  {
   "cell_type": "code",
   "execution_count": 4,
   "metadata": {},
   "outputs": [
    {
     "data": {
      "text/plain": [
       "<matplotlib.collections.PathCollection at 0x10a5f9dd8>"
      ]
     },
     "execution_count": 4,
     "metadata": {},
     "output_type": "execute_result"
    },
    {
     "data": {
      "image/png": "[encoded data removed]",
      "text/plain": [
       "<Figure size 432x288 with 1 Axes>"
      ]
     },
     "metadata": {},
     "output_type": "display_data"
    }
   ],
   "source": [
    "plt.scatter(x, y, s=1)"
   ]
  },
  {
   "cell_type": "code",
   "execution_count": 5,
   "metadata": {},
   "outputs": [],
   "source": [
    "import torch\n",
    "import torch.optim as optim\n",
    "from torch.autograd import Variable"
   ]
  },
  {
   "cell_type": "code",
   "execution_count": 6,
   "metadata": {},
   "outputs": [
    {
     "data": {
      "text/plain": [
       "torch.Size([500, 1])"
      ]
     },
     "execution_count": 6,
     "metadata": {},
     "output_type": "execute_result"
    }
   ],
   "source": [
    "X = Variable(torch.tensor(x, dtype=torch.float)).reshape(-1, 1)\n",
    "Y = Variable(torch.tensor(y, dtype=torch.float)).reshape(-1)\n",
    "X.shape"
   ]
  },
  {
   "cell_type": "code",
   "execution_count": 7,
   "metadata": {},
   "outputs": [
    {
     "data": {
      "text/plain": [
       "Sequential(\n",
       "  (fc0): Linear(in_features=1, out_features=20, bias=True)\n",
       "  (sig0): ReLU()\n",
       "  (fc3): Linear(in_features=20, out_features=1, bias=True)\n",
       ")"
      ]
     },
     "execution_count": 7,
     "metadata": {},
     "output_type": "execute_result"
    }
   ],
   "source": [
    "D_in = 1\n",
    "h = 20\n",
    "D_out = 1\n",
    "\n",
    "fc = torch.nn.Sequential()\n",
    "fc.add_module(\"fc0\", torch.nn.Linear(D_in, h))\n",
    "fc.add_module(\"sig0\", torch.nn.ReLU())\n",
    "#fc.add_module(\"fc1\", torch.nn.Linear(h, h))\n",
    "#fc.add_module(\"sig1\", torch.nn.ReLU())\n",
    "#fc.add_module(\"fc2\", torch.nn.Linear(h, h))\n",
    "#fc.add_module(\"sig2\", torch.nn.ReLU())\n",
    "fc.add_module(\"fc3\", torch.nn.Linear(h, D_out))\n",
    "fc"
   ]
  },
  {
   "cell_type": "markdown",
   "metadata": {},
   "source": [
    "def init_weights(m):\n",
    "    if type(m) == torch.nn.Linear:\n",
    "        m.weight.data.fill_(1.0)\n",
    "        m.bias.data.fill_(1.0)\n",
    "fc.apply(init_weights)"
   ]
  },
  {
   "cell_type": "code",
   "execution_count": 8,
   "metadata": {},
   "outputs": [
    {
     "name": "stdout",
     "output_type": "stream",
     "text": [
      "Parameter containing:\n",
      "tensor([[-0.5861],\n",
      "        [-0.0548],\n",
      "        [ 0.1192],\n",
      "        [-0.0726],\n",
      "        [-0.0628],\n",
      "        [ 0.7313],\n",
      "        [ 0.2345],\n",
      "        [ 0.1841],\n",
      "        [-0.7062],\n",
      "        [ 0.3458],\n",
      "        [ 0.2309],\n",
      "        [-0.7700],\n",
      "        [ 0.5281],\n",
      "        [-0.0230],\n",
      "        [-0.5773],\n",
      "        [-0.5197],\n",
      "        [ 0.5748],\n",
      "        [-0.4511],\n",
      "        [ 0.2604],\n",
      "        [-0.1078]])\n",
      "Parameter containing:\n",
      "tensor([ 0.5525, -0.9895, -0.6476,  0.5577,  0.6104,  0.5005,  0.7200,\n",
      "        -0.1672, -0.5582, -0.1496,  0.8382, -0.5210,  0.8699, -0.4611,\n",
      "         0.9488, -0.0904, -0.4160,  0.5319,  0.7087, -0.1195])\n",
      "Parameter containing:\n",
      "tensor([[ 0.0134, -0.1093,  0.1227,  0.0885, -0.2057,  0.0080, -0.1849,\n",
      "          0.0810, -0.0649,  0.1462,  0.1346,  0.0832, -0.1711, -0.1297,\n",
      "          0.0006, -0.2199, -0.0905, -0.2097, -0.0733,  0.0252]])\n",
      "Parameter containing:\n",
      "tensor([ 0.1013])\n"
     ]
    }
   ],
   "source": [
    "for par in fc.parameters():\n",
    "    print(par)"
   ]
  },
  {
   "cell_type": "code",
   "execution_count": 9,
   "metadata": {},
   "outputs": [],
   "source": [
    "lr = 1e-3\n",
    "optimizer = torch.optim.Adam(fc.parameters(), lr=lr, betas=(0.9, 0.999), eps=1e-8, weight_decay=0, amsgrad=False)\n",
    "#optimizer = torch.optim.LBFGS(fc.parameters(), lr=lr)\n",
    "criterion = torch.nn.MSELoss()\n"
   ]
  },
  {
   "cell_type": "code",
   "execution_count": 10,
   "metadata": {},
   "outputs": [
    {
     "name": "stderr",
     "output_type": "stream",
     "text": [
      "100%|██████████| 20000/20000 [00:07<00:00, 2702.76it/s]\n"
     ]
    }
   ],
   "source": [
    "n_epoch = 20000\n",
    "Loss = []\n",
    "def closure():\n",
    "    pred = fc(X).reshape(-1)\n",
    "    loss = criterion(pred, Y)\n",
    "    optimizer.zero_grad()\n",
    "    loss.backward()\n",
    "    return loss    \n",
    "for epoch in tqdm.tqdm(range(n_epoch)):\n",
    "    loss = optimizer.step(closure)\n",
    "    Loss.append(loss)\n",
    "    current_params = parameters_to_vector(fc.parameters())\n",
    "    if any(np.isnan(current_params.data.numpy())):\n",
    "        print(\"LBFGS optimization diverged. Rolling back update...\")\n",
    "        vector_to_parameters(old_params, fc.parameters())\n",
    "    "
   ]
  },
  {
   "cell_type": "code",
   "execution_count": 11,
   "metadata": {},
   "outputs": [
    {
     "data": {
      "image/png": "[encoded data removed]",
      "text/plain": [
       "<Figure size 432x288 with 1 Axes>"
      ]
     },
     "metadata": {},
     "output_type": "display_data"
    }
   ],
   "source": [
    "plt.plot(Loss)\n",
    "plt.yscale('log')\n",
    "plt.show()"
   ]
  },
  {
   "cell_type": "code",
   "execution_count": 12,
   "metadata": {},
   "outputs": [
    {
     "data": {
      "image/png": "[encoded data removed]",
      "text/plain": [
       "<Figure size 432x288 with 1 Axes>"
      ]
     },
     "metadata": {},
     "output_type": "display_data"
    }
   ],
   "source": [
    "X_plot = torch.sort(X, dim=0)[0]\n",
    "label_plot = fun(X_plot).data.numpy()\n",
    "pred_plot = fc(X_plot).data.numpy()\n",
    "X_plot = X_plot.data.numpy()\n",
    "\n",
    "fig = plt.figure()\n",
    "fig.patch.set_alpha(0.0)\n",
    "plt.xkcd(scale=0.3, length=0.0)\n",
    "plt.gcf().subplots_adjust(bottom=0.20, left = 0.16, right=0.86)\n",
    "\n",
    "#plt.scatter(X_plot, label_plot, c='b', s=4)\n",
    "plt.plot(X_plot, label_plot, c='b', alpha=0.7, linestyle='-.', label=r'real: $x sin(x)$')\n",
    "\n",
    "#plt.scatter(X_plot, pred_plot, c='r', s=1)\n",
    "plt.plot(X_plot, pred_plot, c='orange', alpha=1, label='pred')\n",
    "\n",
    "plt.legend(frameon=False)\n",
    "plt.xlabel('x')\n",
    "plt.ylabel('y')\n",
    "plt.savefig('20n_1l.png', dpi=300, transparent=True)\n",
    "#plt.show()"
   ]
  },
  {
   "cell_type": "code",
   "execution_count": 13,
   "metadata": {},
   "outputs": [
    {
     "name": "stdout",
     "output_type": "stream",
     "text": [
      "Parameter containing:\n",
      "tensor([[-0.8162],\n",
      "        [-0.0548],\n",
      "        [ 0.8861],\n",
      "        [-0.6668],\n",
      "        [-0.4579],\n",
      "        [-0.1992],\n",
      "        [-0.4517],\n",
      "        [ 1.0455],\n",
      "        [-0.7062],\n",
      "        [ 1.1159],\n",
      "        [-0.4076],\n",
      "        [-0.7700],\n",
      "        [-0.2156],\n",
      "        [-0.0230],\n",
      "        [-0.8067],\n",
      "        [-0.5197],\n",
      "        [ 1.0579],\n",
      "        [-1.2345],\n",
      "        [-0.5143],\n",
      "        [-0.1078]])\n",
      "Parameter containing:\n",
      "tensor([ 4.0853, -0.9895, -3.9200,  3.9910,  3.2041,  2.8023,  3.1603,\n",
      "        -0.0211, -0.5582, -0.4034,  2.8517, -0.5210,  2.8489, -0.4611,\n",
      "         4.4278, -0.0904, -2.9598,  2.4441,  3.5989, -0.1195])\n",
      "Parameter containing:\n",
      "tensor([[ 3.3772, -0.1093,  2.8063,  3.0506, -2.4653, -0.5953, -2.4246,\n",
      "          0.7579, -0.0649,  0.7890, -1.5730,  0.0832, -1.3686, -0.1297,\n",
      "          3.0660, -0.2199, -2.1710, -1.8270, -2.3892,  0.0252]])\n",
      "Parameter containing:\n",
      "tensor([-0.8637])\n"
     ]
    }
   ],
   "source": [
    "for par in fc.parameters():\n",
    "    print(par)"
   ]
  },
  {
   "cell_type": "code",
   "execution_count": 14,
   "metadata": {},
   "outputs": [
    {
     "data": {
      "text/plain": [
       "tensor(1.00000e-03 *\n",
       "       2.8462)"
      ]
     },
     "execution_count": 14,
     "metadata": {},
     "output_type": "execute_result"
    }
   ],
   "source": [
    "Loss[-1]"
   ]
  },
  {
   "cell_type": "code",
   "execution_count": 15,
   "metadata": {},
   "outputs": [],
   "source": [
    "import pickle"
   ]
  },
  {
   "cell_type": "code",
   "execution_count": 16,
   "metadata": {},
   "outputs": [],
   "source": [
    "pickle.dump((X_plot, label_plot, pred_plot), open( \"20n_1l.p\", \"wb\" ))"
   ]
  },
  {
   "cell_type": "code",
   "execution_count": null,
   "metadata": {},
   "outputs": [],
   "source": []
  }
 ],
 "metadata": {
  "kernelspec": {
   "display_name": "Python 3",
   "language": "python",
   "name": "python3"
  },
  "language_info": {
   "codemirror_mode": {
    "name": "ipython",
    "version": 3
   },
   "file_extension": ".py",
   "mimetype": "text/x-python",
   "name": "python",
   "nbconvert_exporter": "python",
   "pygments_lexer": "ipython3",
   "version": "3.6.5"
  }
 },
 "nbformat": 4,
 "nbformat_minor": 2
}
