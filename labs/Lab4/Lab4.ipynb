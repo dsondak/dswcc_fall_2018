{
 "cells": [
  {
   "cell_type": "markdown",
   "metadata": {},
   "source": [
    "# Lab 4:  Regularization\n",
    "\n",
    "## Saturday, November 3rd 2018"
   ]
  },
  {
   "cell_type": "markdown",
   "metadata": {},
   "source": [
    "# Background\n",
    "\n",
    "### Types of Regularization\n",
    "* Penalization\n",
    "* Early stopping\n",
    "* Data augmentation\n",
    "* Dropout\n",
    "* ..."
   ]
  },
  {
   "cell_type": "markdown",
   "metadata": {},
   "source": [
    "# Warming Up\n",
    "Today we'll try to fit the function $$f\\left(x\\right) = x\\sin\\left(x\\right).$$\n",
    "\n",
    "### Exercise 1\n",
    "Using `keras`, build a fully-connected neural network to fit $f\\left(x\\right)$.\n",
    "\n",
    "**Notes:**\n",
    "\n",
    "* Be sure to split your dataset into test and training sets.  Train the network on the training data and fit it to the test data.\n",
    "* You can choose any number of nodes and layers that you want.  Don't make the network too big in order to have enough time to complete the training.\n",
    "* You may want to visualize the loss function at each epoch."
   ]
  },
  {
   "cell_type": "markdown",
   "metadata": {},
   "source": [
    "# Penalization\n",
    "$L_{2}$ and $L_{1}$.\n",
    "\n",
    "Compare results."
   ]
  },
  {
   "cell_type": "markdown",
   "metadata": {},
   "source": [
    "# Early Stopping\n",
    "Introduce idea of validation set.\n",
    "\n",
    "Show how to use the validation set in `keras`.\n",
    "\n",
    "Show how to do early stopping in `keras`.\n",
    "\n",
    "Make them stop super early, super late, and just right.  Visualize fit to the training data.  Visualize fit to the test data.  Draw conclusions."
   ]
  },
  {
   "cell_type": "markdown",
   "metadata": {},
   "source": [
    "# Dropout\n",
    "Remind them what it is.\n",
    "\n",
    "Show them how to do it in `keras`."
   ]
  },
  {
   "cell_type": "markdown",
   "metadata": {},
   "source": [
    "# Extra: `GPU` on `AWS`\n",
    "Have them redo the calculations on `AWS` using a `GPU` instance."
   ]
  }
 ],
 "metadata": {
  "kernelspec": {
   "display_name": "Python 3",
   "language": "python",
   "name": "python3"
  },
  "language_info": {
   "codemirror_mode": {
    "name": "ipython",
    "version": 3
   },
   "file_extension": ".py",
   "mimetype": "text/x-python",
   "name": "python",
   "nbconvert_exporter": "python",
   "pygments_lexer": "ipython3",
   "version": "3.6.6"
  }
 },
 "nbformat": 4,
 "nbformat_minor": 2
}
